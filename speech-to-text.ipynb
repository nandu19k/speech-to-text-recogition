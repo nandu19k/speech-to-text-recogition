{
 "cells": [
  {
   "cell_type": "code",
   "execution_count": 1,
   "metadata": {},
   "outputs": [],
   "source": [
    "import speech_recognition as SRG\n",
    "import time"
   ]
  },
  {
   "cell_type": "code",
   "execution_count": 2,
   "metadata": {},
   "outputs": [],
   "source": [
    "store = SRG.Recognizer()"
   ]
  },
  {
   "cell_type": "code",
   "execution_count": 20,
   "metadata": {},
   "outputs": [
    {
     "name": "stdout",
     "output_type": "stream",
     "text": [
      "speak........\n",
      "Recording time: 09:51:00\n",
      "Text covered from audio\n",
      "I am in place and Thorium textbook Narcissism great question 10 most often used only Harry gets better just like that I am I\n",
      "Finished!!\n",
      "Execution time: 09:51:24\n"
     ]
    }
   ],
   "source": [
    "print(\"speak........\")\n",
    "with SRG.AudioFile('Tony Stark.wav') as source:\n",
    "  ab= store.record(source, duration=90 )\n",
    "  print('Recording time:' , time.strftime(\"%I:%M:%S\"))\n",
    "  try:\n",
    "    text_output=store.recognize_google(ab)\n",
    "    print('Text covered from audio')\n",
    "    print(text_output)\n",
    "    print(\"Finished!!\")\n",
    "    print('Execution time:' , time.strftime(\"%I:%M:%S\"))\n",
    "  except:\n",
    "    print(\"Couldn't process the audio input...\")"
   ]
  }
 ],
 "metadata": {
  "kernelspec": {
   "display_name": "Python 3",
   "language": "python",
   "name": "python3"
  },
  "language_info": {
   "codemirror_mode": {
    "name": "ipython",
    "version": 3
   },
   "file_extension": ".py",
   "mimetype": "text/x-python",
   "name": "python",
   "nbconvert_exporter": "python",
   "pygments_lexer": "ipython3",
   "version": "3.7.7"
  }
 },
 "nbformat": 4,
 "nbformat_minor": 4
}
